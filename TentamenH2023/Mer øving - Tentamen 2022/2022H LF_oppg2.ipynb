{
 "cells": [
  {
   "cell_type": "code",
   "execution_count": 1,
   "id": "4c29afa0",
   "metadata": {},
   "outputs": [],
   "source": [
    "# Importerer nødvendige bibliotek\n",
    "import datetime as dt\n",
    "import requests"
   ]
  },
  {
   "cell_type": "code",
   "execution_count": 2,
   "id": "4ee3c59f",
   "metadata": {},
   "outputs": [],
   "source": [
    "class Person:\n",
    "    def __init__(self, fornavn:str, etternavn:str, fodselsdato:str):\n",
    "        self.fornavn = fornavn\n",
    "        self.etternavn = etternavn\n",
    "        self.fodselsdato = fodselsdato\n",
    "        \n",
    "    # Metode som finner alderen til personen\n",
    "    def finn_alder(self):\n",
    "        # Splitter opp fødselsdato i år, måned og dag\n",
    "        y1 = int(self.fodselsdato.split('-')[0]) # Året personen ble født\n",
    "        m1 = int(self.fodselsdato.split('-')[1]) # Måneden personen ble født\n",
    "        d1 = int(self.fodselsdato.split('-')[2]) # Dag i måneden personen ble født\n",
    "        \n",
    "        # Henter dagens dato\n",
    "        i_dag = dt.datetime.today()\n",
    "        y2 = i_dag.year\n",
    "        m2 = i_dag.month\n",
    "        d2 = i_dag.day\n",
    "        \n",
    "        alder = y2 - y1 # Finner differansen i år\n",
    "        \n",
    "        # Sjekker om personen har hatt bursdag\n",
    "        if m2 < m1:\n",
    "            alder -= 1\n",
    "            \n",
    "        elif m2 == m1 and d2 < d1:\n",
    "            alder -= 1\n",
    "            \n",
    "        return alder\n",
    "    \n",
    "    # Metode som presenterer personen\n",
    "    def __str__(self):\n",
    "        utskrift = f\"Mitt navn er {self.fornavn} {self.etternavn}. Jeg er {self.finn_alder()} år gammel.\"\n",
    "        return utskrift"
   ]
  },
  {
   "cell_type": "code",
   "execution_count": 4,
   "id": "fd05fa5c",
   "metadata": {},
   "outputs": [
    {
     "name": "stdout",
     "output_type": "stream",
     "text": [
      "25\n",
      "Mitt navn er Didrik Roest. Jeg er 25 år gammel.\n"
     ]
    }
   ],
   "source": [
    "Didrik = Person(\"Didrik\", \"Roest\", \"1999-03-26\")\n",
    "print(Didrik.finn_alder())\n",
    "print(Didrik)"
   ]
  },
  {
   "cell_type": "code",
   "execution_count": 5,
   "id": "f08e7e19",
   "metadata": {},
   "outputs": [],
   "source": [
    "class Elev(Person):\n",
    "    def __init__(self, fornavn:str, etternavn:str, fodselsdato:str, fag:list):\n",
    "        super().__init__(fornavn, etternavn, fodselsdato)\n",
    "        self.fag = fag\n",
    "        \n",
    "    def __str__(self):\n",
    "        utskrift = super().__str__()\n",
    "        utskrift += f\"\\nMine fag er: {self.fag}\"\n",
    "        \n",
    "        return utskrift"
   ]
  },
  {
   "cell_type": "code",
   "execution_count": 6,
   "id": "51093249",
   "metadata": {},
   "outputs": [],
   "source": [
    "Ammar = Elev(\"Ammar\", \"Anoun\", \"2001-07-21\", [\"IT 2\", \"R2\", \"Historie\"])"
   ]
  },
  {
   "cell_type": "code",
   "execution_count": 7,
   "id": "7e6b5644",
   "metadata": {},
   "outputs": [
    {
     "name": "stdout",
     "output_type": "stream",
     "text": [
      "Mitt navn er Ammar Anoun. Jeg er 23 år gammel.\n",
      "Mine fag er: ['IT 2', 'R2', 'Historie']\n"
     ]
    }
   ],
   "source": [
    "print(Ammar)"
   ]
  },
  {
   "cell_type": "code",
   "execution_count": 8,
   "id": "c7170190",
   "metadata": {},
   "outputs": [],
   "source": [
    "def hvem_er_eldst(person1, person2):\n",
    "    print(f\"Sammenligner alderen til {person1.fornavn} og {person2.fornavn}.\")\n",
    "    print(f\"{person1.fornavn} er {person1.finn_alder()} år gammel.\")\n",
    "    print(f\"{person2.fornavn} er {person2.finn_alder()} år gammel.\")\n",
    "    \n",
    "    if person1.finn_alder() > person2.finn_alder():\n",
    "        print(f\"{person1.fornavn} er eldst.\")\n",
    "    elif person1.finn_alder() < person2.finn_alder():\n",
    "        print(f\"{person2.fornavn} er eldst.\")\n",
    "    else:\n",
    "        print(\"Personene er like gamle.\")"
   ]
  },
  {
   "cell_type": "code",
   "execution_count": 9,
   "id": "e9d5eddc",
   "metadata": {},
   "outputs": [
    {
     "name": "stdout",
     "output_type": "stream",
     "text": [
      "Sammenligner alderen til Didrik og Ammar.\n",
      "Didrik er 25 år gammel.\n",
      "Ammar er 23 år gammel.\n",
      "Didrik er eldst.\n"
     ]
    }
   ],
   "source": [
    "hvem_er_eldst(Didrik, Ammar)"
   ]
  },
  {
   "cell_type": "code",
   "execution_count": 10,
   "id": "bfb67ecd",
   "metadata": {},
   "outputs": [],
   "source": [
    "Elon = Person(\"Elon\", \"Musk\", \"1971-06-28\")"
   ]
  },
  {
   "cell_type": "code",
   "execution_count": 11,
   "id": "02e813ee",
   "metadata": {},
   "outputs": [
    {
     "name": "stdout",
     "output_type": "stream",
     "text": [
      "Sammenligner alderen til Didrik og Elon.\n",
      "Didrik er 25 år gammel.\n",
      "Elon er 53 år gammel.\n",
      "Elon er eldst.\n"
     ]
    }
   ],
   "source": [
    "hvem_er_eldst(Didrik, Elon)"
   ]
  },
  {
   "cell_type": "code",
   "execution_count": 12,
   "id": "db99e827",
   "metadata": {},
   "outputs": [],
   "source": [
    "def hent_bruker():\n",
    "    url = 'https://randomuser.me/api/'\n",
    "    resultat = requests.get(url)\n",
    "\n",
    "    if resultat.status_code == 200:\n",
    "        data = resultat.json()\n",
    "        \n",
    "        person = data[\"results\"][0]\n",
    "        \n",
    "        fornavn = person[\"name\"][\"first\"]\n",
    "        etternavn = person[\"name\"][\"last\"]\n",
    "        fodselsdato = person[\"dob\"][\"date\"].split('T')[0]\n",
    "        \n",
    "        return Person(fornavn, etternavn, fodselsdato)"
   ]
  },
  {
   "cell_type": "code",
   "execution_count": 13,
   "id": "8a295c59",
   "metadata": {},
   "outputs": [
    {
     "name": "stdout",
     "output_type": "stream",
     "text": [
      "Mitt navn er Magdalena Villanueva. Jeg er 41 år gammel.\n"
     ]
    }
   ],
   "source": [
    "tilfeldig_person = hent_bruker()\n",
    "print(tilfeldig_person)"
   ]
  },
  {
   "cell_type": "code",
   "execution_count": 14,
   "id": "54637e2b",
   "metadata": {},
   "outputs": [],
   "source": [
    "# Funksjon som henter flere tilfeldige brukere\n",
    "def hent_brukere(n):\n",
    "    url = f'https://randomuser.me/api/?results={n}&nat=no'\n",
    "    \n",
    "    resultat = requests.get(url)\n",
    "\n",
    "    if resultat.status_code == 200:\n",
    "        data = resultat.json()\n",
    "        \n",
    "        # Liste over personer\n",
    "        personer = data['results']\n",
    "        person_objekter = []\n",
    "        \n",
    "        for person in personer:\n",
    "            fornavn = person['name']['first']\n",
    "            etternavn = person[\"name\"][\"last\"]\n",
    "            fodselsdato = person[\"dob\"][\"date\"].split('T')[0]\n",
    "            \n",
    "            person_objekter.append(Person(fornavn, etternavn, fodselsdato))\n",
    "            \n",
    "        return person_objekter"
   ]
  },
  {
   "cell_type": "code",
   "execution_count": 15,
   "id": "812495c3",
   "metadata": {},
   "outputs": [
    {
     "name": "stdout",
     "output_type": "stream",
     "text": [
      "Mitt navn er Ragnhild Nordberg. Jeg er 74 år gammel.\n",
      "Mitt navn er Trygve Norum. Jeg er 38 år gammel.\n",
      "Mitt navn er Liv Malik. Jeg er 52 år gammel.\n",
      "Mitt navn er Wilhelm Robstad. Jeg er 65 år gammel.\n",
      "Mitt navn er Timian Myrene. Jeg er 45 år gammel.\n",
      "Mitt navn er Pola Østli. Jeg er 49 år gammel.\n",
      "Mitt navn er Josephine Hartmann. Jeg er 71 år gammel.\n",
      "Mitt navn er Carmen Abelsen. Jeg er 45 år gammel.\n",
      "Mitt navn er David Brobakken. Jeg er 43 år gammel.\n",
      "Mitt navn er Amelija Tømmerås. Jeg er 46 år gammel.\n",
      "Mitt navn er Lucas Bakkan. Jeg er 63 år gammel.\n",
      "Mitt navn er Ann Furset. Jeg er 34 år gammel.\n",
      "Mitt navn er Jimmy Kolltveit. Jeg er 72 år gammel.\n",
      "Mitt navn er Lena Josdal. Jeg er 29 år gammel.\n",
      "Mitt navn er Brian Stien. Jeg er 24 år gammel.\n",
      "Mitt navn er Olander Lindhjem. Jeg er 28 år gammel.\n",
      "Mitt navn er Frøya Gjerde. Jeg er 37 år gammel.\n",
      "Mitt navn er Moa Furre. Jeg er 77 år gammel.\n",
      "Mitt navn er Arman Otterlei. Jeg er 79 år gammel.\n",
      "Mitt navn er Joachim Kjelsberg. Jeg er 37 år gammel.\n",
      "Mitt navn er Helmine Dyrdal. Jeg er 31 år gammel.\n",
      "Mitt navn er Herman Viken. Jeg er 41 år gammel.\n",
      "Mitt navn er Kristupas Skøien. Jeg er 40 år gammel.\n",
      "Mitt navn er Hilde Andreassen. Jeg er 45 år gammel.\n",
      "Mitt navn er Amelija Aarflot. Jeg er 45 år gammel.\n",
      "Mitt navn er Adam Nymoen. Jeg er 52 år gammel.\n",
      "Mitt navn er Olivia Hovland. Jeg er 74 år gammel.\n",
      "Mitt navn er Mikolaj Berthelsen. Jeg er 71 år gammel.\n",
      "Mitt navn er Sienna Midttun. Jeg er 71 år gammel.\n",
      "Mitt navn er Yara Busk. Jeg er 26 år gammel.\n",
      "Mitt navn er Nicolas Gravdal. Jeg er 37 år gammel.\n",
      "Mitt navn er Brian Følstad. Jeg er 30 år gammel.\n",
      "Mitt navn er Håvard Lundby. Jeg er 61 år gammel.\n",
      "Mitt navn er Øyvind Storeide. Jeg er 45 år gammel.\n",
      "Mitt navn er Ismail Fagerhaug. Jeg er 53 år gammel.\n",
      "Mitt navn er Piotr Minde. Jeg er 67 år gammel.\n",
      "Mitt navn er Elif Devold. Jeg er 68 år gammel.\n",
      "Mitt navn er Mathis Gunnerud. Jeg er 72 år gammel.\n",
      "Mitt navn er Muhammed Nesje. Jeg er 70 år gammel.\n",
      "Mitt navn er Kari Engeseth. Jeg er 73 år gammel.\n",
      "Mitt navn er Eilif Størksen. Jeg er 56 år gammel.\n",
      "Mitt navn er Siham Søreng. Jeg er 49 år gammel.\n",
      "Mitt navn er Finn Myreng. Jeg er 24 år gammel.\n",
      "Mitt navn er Cindy Vestad. Jeg er 79 år gammel.\n",
      "Mitt navn er Michal Vestrheim. Jeg er 58 år gammel.\n",
      "Mitt navn er Vårin Dramstad. Jeg er 76 år gammel.\n",
      "Mitt navn er Vegard Westrum. Jeg er 30 år gammel.\n",
      "Mitt navn er Even Hallingstad. Jeg er 23 år gammel.\n",
      "Mitt navn er Jaran Osman. Jeg er 27 år gammel.\n",
      "Mitt navn er Alfred Storvik. Jeg er 59 år gammel.\n"
     ]
    }
   ],
   "source": [
    "# Lager liste med 50 tilfeldige personobjekter\n",
    "person_objekter = hent_brukere(50)\n",
    "for person_objekt in person_objekter:\n",
    "    print(person_objekt)"
   ]
  },
  {
   "cell_type": "code",
   "execution_count": 16,
   "id": "edae615a",
   "metadata": {},
   "outputs": [],
   "source": [
    "# Åpner en fil for skriving\n",
    "with open('personer.csv', 'w', encoding='utf-8-sig') as fil:\n",
    "    fil.write('Fornavn;Etternavn;Fødselsdato\\n')\n",
    "    \n",
    "    # Lager en liste med 50 tilfeldige brukere\n",
    "    person_objekter = hent_brukere(50)\n",
    "    \n",
    "    # Skriver en ny rad for hver person i lista\n",
    "    for p in person_objekter:\n",
    "        fil.write(f'{p.fornavn};{p.etternavn};{p.fodselsdato}\\n')"
   ]
  },
  {
   "cell_type": "code",
   "execution_count": 17,
   "id": "1c1db300",
   "metadata": {},
   "outputs": [
    {
     "name": "stdout",
     "output_type": "stream",
     "text": [
      "['Fornavn', 'Etternavn', 'Fødselsdato']\n",
      "['Silje', 'Harstad', '1987-10-15']\n",
      "['Tonje', 'Bakker', '1954-07-11']\n",
      "['Sebastian', 'Mellingen', '1965-06-22']\n",
      "['Sunniva', 'Reed', '1950-07-25']\n",
      "['Amalie', 'Lende', '1954-04-18']\n",
      "['Malene', 'Engum', '1962-09-18']\n",
      "['Samantha', 'Melsom', '1996-07-25']\n",
      "['Karin', 'Egeberg', '1970-08-27']\n",
      "['Sven', 'Espeland', '1982-01-12']\n",
      "['Alma', 'Leren', '1979-05-01']\n",
      "['Håkon', 'Rognerud', '1970-03-10']\n",
      "['Peder', 'Rekkedal', '1992-10-12']\n",
      "['Torstein', 'Schanche', '1998-08-20']\n",
      "['Erlend', 'Wisløff', '1965-02-28']\n",
      "['Mika', 'Hartmann', '1971-07-29']\n",
      "['Nataniel', 'Stadheim', '1991-09-06']\n",
      "['Theodor', 'Bjørsvik', '1955-06-28']\n",
      "['Ivo', 'Liland', '1968-01-25']\n",
      "['Melissa', 'Thune', '2000-03-02']\n",
      "['Arne', 'Schei', '1954-07-06']\n",
      "['Angelina', 'Osmundsen', '1997-10-15']\n",
      "['Isaac', 'Grønli', '1983-02-26']\n",
      "['Angelika', 'Kildal', '1948-09-11']\n",
      "['Amanda', 'Heggset', '1959-07-27']\n",
      "['Kajsa', 'Buvik', '1960-08-11']\n",
      "['Linnea', 'Myrvold', '1987-11-06']\n",
      "['Halvor', 'Gustafsson', '1960-08-24']\n",
      "['Leo', 'Solstad', '1978-06-16']\n",
      "['Nikolay', 'Georgsen', '1950-07-28']\n",
      "['Kacper', 'Stendal', '1961-04-13']\n",
      "['Christer', 'Sharif', '1946-06-29']\n",
      "['Freya', 'Østmo', '1982-08-22']\n",
      "['Linn', 'Severinsen', '1951-02-05']\n",
      "['Nicolay', 'Stølen', '1972-02-22']\n",
      "['Emanuel', 'Håkonsen', '1945-10-22']\n",
      "['Audun', 'Paus', '1954-06-18']\n",
      "['Veronika', 'Finnerud', '1960-01-07']\n",
      "['Marthe', 'Arnevik', '1985-03-12']\n",
      "['Ellie', 'Stokkenes', '1948-03-09']\n",
      "['Alan', 'Husøy', '1949-01-14']\n",
      "['Kaja', 'Gjøen', '1963-09-01']\n",
      "['Lilli', 'Bruvik', '1960-10-20']\n",
      "['Sigrid', 'Hægeland', '1998-08-28']\n",
      "['Dexter', 'Edland', '1985-08-16']\n",
      "['Dawid', 'Bech', '1978-01-03']\n",
      "['Muhammad', 'Dyrkorn', '1972-04-08']\n",
      "['Dorthea', 'Tonning', '2001-02-20']\n",
      "['Farah', 'Sønsterud', '1952-10-17']\n",
      "['Vida', 'Asp', '1962-12-05']\n",
      "['Chrisander', 'Bergesen', '1948-10-01']\n"
     ]
    }
   ],
   "source": [
    "# Åpner filen og leser innholdet for å teste at alt fungerte\n",
    "import csv\n",
    "\n",
    "with open('personer.csv', 'r', encoding='utf-8-sig') as fil:\n",
    "    innhold = csv.reader(fil, delimiter=';')\n",
    "    \n",
    "    for rad in innhold:\n",
    "        print(rad)"
   ]
  },
  {
   "cell_type": "code",
   "execution_count": null,
   "id": "1d026466",
   "metadata": {},
   "outputs": [],
   "source": []
  }
 ],
 "metadata": {
  "kernelspec": {
   "display_name": "Python 3",
   "language": "python",
   "name": "python3"
  },
  "language_info": {
   "codemirror_mode": {
    "name": "ipython",
    "version": 3
   },
   "file_extension": ".py",
   "mimetype": "text/x-python",
   "name": "python",
   "nbconvert_exporter": "python",
   "pygments_lexer": "ipython3",
   "version": "3.11.9"
  }
 },
 "nbformat": 4,
 "nbformat_minor": 5
}
