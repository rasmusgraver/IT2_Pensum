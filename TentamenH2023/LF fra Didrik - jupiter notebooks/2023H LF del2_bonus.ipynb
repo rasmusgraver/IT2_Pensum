{
 "cells": [
  {
   "cell_type": "markdown",
   "id": "a0fcaf5e",
   "metadata": {},
   "source": [
    "# Bonusoppgave\n",
    "\n",
    "Et palindromisk tall leses det samme begge veier (f.eks. 55 eller 121)\n",
    "Det største palindromet laget av produktet av to 2-sifrede tall er 9009 = 91 × 99.\n",
    "\n",
    "Lag et program som finner det største palindromet laget av produktet av to 3-sifrede tall.\n",
    "\n",
    "(Oppgaven er hentet fra [Project Euler - Problem 4](https://projecteuler.net/problem=4))"
   ]
  },
  {
   "cell_type": "code",
   "execution_count": 24,
   "id": "d648f8e0",
   "metadata": {},
   "outputs": [],
   "source": [
    "def storste_palindromiske_tall(nsiffer: int):\n",
    "    # nsiffer er antall siffer\n",
    "    start = 10**(nsiffer-1) # Minste tallet med nsiffer\n",
    "    slutt = int(\"9\"*nsiffer) # Største tallet med nsiffer\n",
    "    \n",
    "    storst = 0\n",
    "    p1 = 0\n",
    "    p2 = 0\n",
    "\n",
    "    for i in range(start, slutt+1):\n",
    "        for j in range(start, slutt+1):\n",
    "            prod = i*j\n",
    "            sprod = str(prod)\n",
    "            if sprod == sprod[::-1]:\n",
    "                #print(prod, \"er et palindrom\")\n",
    "                if prod > storst:\n",
    "                    storst = prod\n",
    "                    p1 = i\n",
    "                    p2 = j\n",
    "\n",
    "\n",
    "    print(f\"Det største palindromiske tallet laget av produktet av to {nsiffer}-sifrede tall er\")\n",
    "    print(f\"{p1} x {p2} = {storst}\")"
   ]
  },
  {
   "cell_type": "code",
   "execution_count": 25,
   "id": "6a9dea82",
   "metadata": {},
   "outputs": [
    {
     "name": "stdout",
     "output_type": "stream",
     "text": [
      "Det største palindromiske tallet laget av produktet av to 2-sifrede tall er\n",
      "91 x 99 = 9009\n"
     ]
    }
   ],
   "source": [
    "# Tester eksempelet i oppgaveteksten\n",
    "storste_palindromiske_tall(2)"
   ]
  },
  {
   "cell_type": "code",
   "execution_count": 26,
   "id": "fe5e2d79",
   "metadata": {},
   "outputs": [
    {
     "name": "stdout",
     "output_type": "stream",
     "text": [
      "Det største palindromiske tallet laget av produktet av to 3-sifrede tall er\n",
      "913 x 993 = 906609\n"
     ]
    }
   ],
   "source": [
    "# Løser oppgaven\n",
    "storste_palindromiske_tall(3)"
   ]
  },
  {
   "cell_type": "code",
   "execution_count": null,
   "id": "c77d9a76",
   "metadata": {},
   "outputs": [],
   "source": []
  }
 ],
 "metadata": {
  "kernelspec": {
   "display_name": "Python 3",
   "language": "python",
   "name": "python3"
  },
  "language_info": {
   "codemirror_mode": {
    "name": "ipython",
    "version": 3
   },
   "file_extension": ".py",
   "mimetype": "text/x-python",
   "name": "python",
   "nbconvert_exporter": "python",
   "pygments_lexer": "ipython3",
   "version": "3.11.9"
  }
 },
 "nbformat": 4,
 "nbformat_minor": 5
}
