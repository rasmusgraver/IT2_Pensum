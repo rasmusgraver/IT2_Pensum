{
 "cells": [
  {
   "cell_type": "code",
   "execution_count": 2,
   "id": "fea668bf",
   "metadata": {},
   "outputs": [],
   "source": [
    "# Importerer nødvendige bibliotek\n",
    "import requests\n",
    "import datetime as dt"
   ]
  },
  {
   "cell_type": "code",
   "execution_count": 18,
   "id": "7a2fc35e",
   "metadata": {},
   "outputs": [],
   "source": [
    "class Film:\n",
    "    \"\"\"Klasse for å representere en film\"\"\"\n",
    "    def __init__(self, tittel:str, regissor:str, produsenter:list, dato:str):\n",
    "        \"\"\"Konstruktør\"\"\"\n",
    "        self.tittel = tittel # Tittelen på filmen\n",
    "        self.regissor = regissor # Filmens regissør\n",
    "        self.produsenter = produsenter # Filmens produsenter\n",
    "        self.dato = dato # Datoen filmen hadde premiere/ble utgitt\n",
    "        \n",
    "    def finn_dager(self):\n",
    "        # Tar inspirasjon fra følgende kode: https://tecadmin.net/calculate-days-between-two-dates-in-python/\n",
    "        dato_start = dt.datetime.strptime(self.dato, '%Y-%m-%d')\n",
    "        i_dag = dt.datetime.today()\n",
    "        \n",
    "        antall_dager = (i_dag - dato_start).days\n",
    "        \n",
    "        print(f\"Filmen ble utgitt for {antall_dager} dager siden.\")\n",
    "        \n",
    "        \n",
    "    def __str__(self):\n",
    "        utskrift = f'Filmen \"{self.tittel}\" ble utgitt {self.dato}.\\n'\n",
    "        utskrift += f'Filmen ble regissert av {self.regissor}'\n",
    "        utskrift += f' og produsert av'\n",
    "        \n",
    "        # Formatterer utskrift basert på antall produsenter (ikke nødvendig, men ser litt bedre ut)\n",
    "        if len(self.produsenter) == 1:\n",
    "            utskrift += f' {self.produsenter[0]}.'\n",
    "        else:\n",
    "            for i in range(len(self.produsenter)):\n",
    "                if i != len(self.produsenter) - 1:\n",
    "                    utskrift += f' {self.produsenter[i]},'\n",
    "                else:\n",
    "                    utskrift += f' {self.produsenter[i]}.'\n",
    "        \n",
    "        return utskrift\n",
    "        "
   ]
  },
  {
   "cell_type": "code",
   "execution_count": 20,
   "id": "3f35224f",
   "metadata": {},
   "outputs": [
    {
     "name": "stdout",
     "output_type": "stream",
     "text": [
      "Filmen \"The Imitation Game\" ble utgitt 2014-11-28.\n",
      "Filmen ble regissert av Morten Tyldum og produsert av Nora Grossman, Ido Ostrowsky, Teddy Schwarzman.\n",
      "Filmen ble utgitt for 3308 dager siden.\n"
     ]
    }
   ],
   "source": [
    "imitation_game = Film(\"The Imitation Game\", \n",
    "                          \"Morten Tyldum\", \n",
    "                          [\"Nora Grossman\", \"Ido Ostrowsky\", \"Teddy Schwarzman\"], \n",
    "                           \"2014-11-28\")\n",
    "\n",
    "print(imitation_game)\n",
    "imitation_game.finn_dager()"
   ]
  },
  {
   "cell_type": "code",
   "execution_count": 21,
   "id": "4fa45954",
   "metadata": {},
   "outputs": [],
   "source": [
    "# Lager en ordbok for å gjøre om fra arabiske tall til romertall\n",
    "romertall_ordbok = {\n",
    "    1 : \"I\",\n",
    "    2 : \"II\",\n",
    "    3 : \"III\",\n",
    "    4 : \"IV\",\n",
    "    5 : \"V\",\n",
    "    6 : \"VI\"\n",
    "}"
   ]
  },
  {
   "cell_type": "code",
   "execution_count": null,
   "id": "b03aefd7",
   "metadata": {},
   "outputs": [],
   "source": [
    "class StarWarsFilm(Film):\n",
    "    def __init__(self, tittel:str, regissor:str, produsenter:list, dato:str, episode:int):\n",
    "        super().__init__(tittel, regissor, produsenter, dato)\n",
    "        # Oppdaterer tittelen basert på spesifikasjonen\n",
    "        self.tittel = f\"Star Wars: Episode {romertall_ordbok[episode]} - {tittel}\"\n",
    "        self.episode = episode\n",
    "        \n",
    "    # Oppdaterer metoden som skriver ut informasjon om filmen\n",
    "    def __str__(self):\n",
    "        utskrift = super().__str__() + \"\\n\"\n",
    "        \n",
    "        utskrift += f'Kronologisk er dette nr. {self.episode}.'\n",
    "        \n",
    "        return utskrift"
   ]
  },
  {
   "cell_type": "code",
   "execution_count": null,
   "id": "173aea11",
   "metadata": {},
   "outputs": [],
   "source": [
    "        super().__init__(tittel, regissor, produsenter, dato)\n",
    "        # Oppdaterer tittelen basert på spesifikasjonen\n",
    "        self.tittel = f\"Star Wars: Episode {romertall_ordbok[episode]} - {tittel}\"\n",
    "        self.episode = episode\n",
    "        \n",
    "    # Oppdaterer metoden som skriver ut informasjon om filmen\n",
    "    def __str__(self):\n",
    "        utskrift = super().__str__() + \"\\n\"\n",
    "        \n",
    "        utskrift += f'Kronologisk er dette nr. {self.episode}.'\n",
    "        \n",
    "        return utskrift"
   ]
  },
  {
   "cell_type": "code",
   "execution_count": 7,
   "id": "60e0a897",
   "metadata": {},
   "outputs": [],
   "source": [
    "# Funksjon som henter en Star Wars film\n",
    "def hent_star_wars_film(nr):\n",
    "    # Bruker API-en som er oppgitt\n",
    "    url = f'https://swapi.dev/api/films/{nr}/'\n",
    "\n",
    "    resultat = requests.get(url)\n",
    "\n",
    "    # Hvis statuskode er 200, så er forespørselen vellykket\n",
    "    if resultat.status_code == 200:\n",
    "        data = resultat.json()\n",
    "        \n",
    "        # Lager et StarWarsFilm-objekt\n",
    "        film = StarWarsFilm(data['title'], \n",
    "                            data['director'], \n",
    "                            data['producer'].split(', '), \n",
    "                            data['release_date'], \n",
    "                            int(data['episode_id']))\n",
    "        \n",
    "        return film\n",
    "    "
   ]
  },
  {
   "cell_type": "code",
   "execution_count": 8,
   "id": "79028dff",
   "metadata": {},
   "outputs": [
    {
     "name": "stdout",
     "output_type": "stream",
     "text": [
      "Filmen \"Star Wars: Episode IV - A New Hope\" ble utgitt 1977-05-25.\n",
      "Filmen ble regissert av George Lucas og produsert av Gary Kurtz, Rick McCallum.\n",
      "Kronologisk er dette nr. 4.\n"
     ]
    }
   ],
   "source": [
    "# Lager et objekt for den første Star Wars filmen som ble utgitt (episode 4)\n",
    "a_new_hope = hent_star_wars_film(1)\n",
    "print(a_new_hope)"
   ]
  },
  {
   "cell_type": "code",
   "execution_count": 12,
   "id": "657a31bf",
   "metadata": {},
   "outputs": [],
   "source": [
    "'''\n",
    "Henter alle Star Wars filmene ved hjelp av én API spørring.\n",
    "Det står i dokumentasjonen (https://swapi.dev/documentation) at det er en begrensning på 10 000 API spørringer per dag, \n",
    "så i teorien skal det gå fint å hente ut hver film manuelt. Men vi burde likevel unngå unødvendig mengde trafikk hvis vi kan.\n",
    "'''\n",
    "url = f'https://swapi.dev/api/films'\n",
    "\n",
    "resultat = requests.get(url)\n",
    "\n",
    "if resultat.status_code == 200:\n",
    "    alle_filmer = resultat.json()"
   ]
  },
  {
   "cell_type": "code",
   "execution_count": 14,
   "id": "69406b53",
   "metadata": {},
   "outputs": [],
   "source": [
    "# Lager liste med et objekt for hver film\n",
    "star_wars_filmer = []\n",
    "\n",
    "for data in alle_filmer['results']:\n",
    "    film = StarWarsFilm(data['title'], \n",
    "                            data['director'], \n",
    "                            data['producer'].split(', '), \n",
    "                            data['release_date'], \n",
    "                            int(data['episode_id']))\n",
    "    \n",
    "    star_wars_filmer.append(film)"
   ]
  },
  {
   "cell_type": "code",
   "execution_count": 22,
   "id": "64d354b1",
   "metadata": {},
   "outputs": [
    {
     "name": "stdout",
     "output_type": "stream",
     "text": [
      "Filmen \"Star Wars: Episode I - The Phantom Menace\" ble utgitt 1999-05-19.\n",
      "Filmen ble regissert av George Lucas og produsert av Rick McCallum.\n",
      "Kronologisk er dette nr. 1.\n",
      "\n",
      "Filmen \"Star Wars: Episode II - Attack of the Clones\" ble utgitt 2002-05-16.\n",
      "Filmen ble regissert av George Lucas og produsert av Rick McCallum.\n",
      "Kronologisk er dette nr. 2.\n",
      "\n",
      "Filmen \"Star Wars: Episode III - Revenge of the Sith\" ble utgitt 2005-05-19.\n",
      "Filmen ble regissert av George Lucas og produsert av Rick McCallum.\n",
      "Kronologisk er dette nr. 3.\n",
      "\n",
      "Filmen \"Star Wars: Episode IV - A New Hope\" ble utgitt 1977-05-25.\n",
      "Filmen ble regissert av George Lucas og produsert av Gary Kurtz, Rick McCallum.\n",
      "Kronologisk er dette nr. 4.\n",
      "\n",
      "Filmen \"Star Wars: Episode V - The Empire Strikes Back\" ble utgitt 1980-05-17.\n",
      "Filmen ble regissert av Irvin Kershner og produsert av Gary Kurtz, Rick McCallum.\n",
      "Kronologisk er dette nr. 5.\n",
      "\n",
      "Filmen \"Star Wars: Episode VI - Return of the Jedi\" ble utgitt 1983-05-25.\n",
      "Filmen ble regissert av Richard Marquand og produsert av Howard G. Kazanjian, George Lucas, Rick McCallum.\n",
      "Kronologisk er dette nr. 6.\n",
      "\n"
     ]
    }
   ],
   "source": [
    "# Sørger for at utskriften kommer i kronologisk rekkefølge (episode 1-6)\n",
    "rekkefolge = [4,5,6, 1,2,3]\n",
    "for nr in rekkefolge:\n",
    "    print(star_wars_filmer[nr-1])\n",
    "    print()"
   ]
  },
  {
   "cell_type": "code",
   "execution_count": null,
   "id": "fe59d1b2",
   "metadata": {},
   "outputs": [],
   "source": []
  }
 ],
 "metadata": {
  "kernelspec": {
   "display_name": "Python 3 (ipykernel)",
   "language": "python",
   "name": "python3"
  },
  "language_info": {
   "codemirror_mode": {
    "name": "ipython",
    "version": 3
   },
   "file_extension": ".py",
   "mimetype": "text/x-python",
   "name": "python",
   "nbconvert_exporter": "python",
   "pygments_lexer": "ipython3",
   "version": "3.9.13"
  }
 },
 "nbformat": 4,
 "nbformat_minor": 5
}
