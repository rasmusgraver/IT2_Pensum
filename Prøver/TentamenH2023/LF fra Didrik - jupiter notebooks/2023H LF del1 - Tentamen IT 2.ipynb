{
 "cells": [
  {
   "cell_type": "markdown",
   "id": "99fc283a",
   "metadata": {},
   "source": [
    "# Oppgave 1"
   ]
  },
  {
   "cell_type": "markdown",
   "id": "d45d3500",
   "metadata": {},
   "source": [
    "## Hva blir output?"
   ]
  },
  {
   "cell_type": "code",
   "execution_count": 1,
   "id": "a7dc0c21",
   "metadata": {},
   "outputs": [
    {
     "name": "stdout",
     "output_type": "stream",
     "text": [
      "Lykke til med tentamen 8/12-23!\n"
     ]
    }
   ],
   "source": [
    "# a)\n",
    "d = \"08\"\n",
    "m = \"12\"\n",
    "y = \"2023\"\n",
    "\n",
    "print(f\"Lykke til med tentamen {d[-1]}/{m}-{y[2:]}!\")"
   ]
  },
  {
   "cell_type": "code",
   "execution_count": 2,
   "id": "4293de1b",
   "metadata": {},
   "outputs": [
    {
     "name": "stdout",
     "output_type": "stream",
     "text": [
      "14\n"
     ]
    }
   ],
   "source": [
    "# b)\n",
    "tall = (4*4) - 3\n",
    "tall = tall + 1\n",
    "print(tall)"
   ]
  },
  {
   "cell_type": "code",
   "execution_count": 3,
   "id": "c0b0bd9a",
   "metadata": {},
   "outputs": [
    {
     "name": "stdout",
     "output_type": "stream",
     "text": [
      "5\n"
     ]
    }
   ],
   "source": [
    "# c)\n",
    "ordbok = {\n",
    "    \"a\":[0,2,4],\n",
    "    \"b\":[4,3,5]\n",
    "}\n",
    "print(ordbok[\"b\"][2])"
   ]
  },
  {
   "cell_type": "code",
   "execution_count": 4,
   "id": "0a4973de",
   "metadata": {},
   "outputs": [
    {
     "name": "stdout",
     "output_type": "stream",
     "text": [
      "['Bill', 'Konrad', 'Margaret']\n"
     ]
    }
   ],
   "source": [
    "# d)\n",
    "personer = [\"Konrad\"]\n",
    "personer.append(\"Ada\")\n",
    "personer.insert(1, \"Margaret\")\n",
    "personer.insert(0, \"Bill\")\n",
    "personer.pop()\n",
    "print(personer)"
   ]
  },
  {
   "cell_type": "code",
   "execution_count": 16,
   "id": "0f0e9932",
   "metadata": {},
   "outputs": [
    {
     "name": "stdout",
     "output_type": "stream",
     "text": [
      "heiheihei\n"
     ]
    }
   ],
   "source": [
    "# e)\n",
    "def repeter(s):\n",
    "    s = s + s\n",
    "    return s\n",
    "\n",
    "a = \"hei\"\n",
    "b = repeter(a)\n",
    "\n",
    "print(a + b)"
   ]
  },
  {
   "cell_type": "code",
   "execution_count": 18,
   "id": "0ea4de64",
   "metadata": {},
   "outputs": [
    {
     "name": "stdout",
     "output_type": "stream",
     "text": [
      "a = -4\n",
      "b = 8\n"
     ]
    }
   ],
   "source": [
    "# f)\n",
    "a = 10\n",
    "b = 1\n",
    "while a > 0:\n",
    "    b = b * 2\n",
    "    a = a - b\n",
    "\n",
    "print(f\"a = {a}\")\n",
    "print(f\"b = {b}\")"
   ]
  },
  {
   "cell_type": "code",
   "execution_count": 17,
   "id": "a2addd4c",
   "metadata": {},
   "outputs": [
    {
     "name": "stdout",
     "output_type": "stream",
     "text": [
      "Oddetallsuke\n"
     ]
    }
   ],
   "source": [
    "# g)\n",
    "ukenummer = 49\n",
    "\n",
    "if ukenummer % 2 == 0:\n",
    "    print(\"Partall\")\n",
    "elif ukenummer % 2 != 0:\n",
    "    print(\"Oddetallsuke\")\n",
    "elif ukenummer == 49:\n",
    "    print(\"Fagdagsuke\")"
   ]
  },
  {
   "cell_type": "code",
   "execution_count": 20,
   "id": "20621792",
   "metadata": {},
   "outputs": [
    {
     "name": "stdout",
     "output_type": "stream",
     "text": [
      "19\n"
     ]
    }
   ],
   "source": [
    "# i)\n",
    "def f(x):\n",
    "    return x+3\n",
    "\n",
    "def g(y):\n",
    "    return y**2\n",
    "\n",
    "print(f(g(4)))"
   ]
  },
  {
   "cell_type": "code",
   "execution_count": 19,
   "id": "b0dd5809",
   "metadata": {},
   "outputs": [
    {
     "name": "stdout",
     "output_type": "stream",
     "text": [
      "6\n"
     ]
    }
   ],
   "source": [
    "# j)\n",
    "s = 0\n",
    "for i in range(2):\n",
    "    for j in range(4):\n",
    "        s += i*j\n",
    "\n",
    "print(s)"
   ]
  },
  {
   "cell_type": "code",
   "execution_count": 5,
   "id": "c8188b36",
   "metadata": {},
   "outputs": [
    {
     "name": "stdout",
     "output_type": "stream",
     "text": [
      "Bilmerke Opel: 2\n"
     ]
    }
   ],
   "source": [
    "# k)\n",
    "class Bil:\n",
    "  nummer = 0\n",
    "\n",
    "  def __init__(self, merke):\n",
    "    self.merke = merke\n",
    "    Bil.nummer += 1    \n",
    "    self.nummer = Bil.nummer\n",
    "\n",
    "  def __str__(self):\n",
    "    return f\"Bilmerke {self.merke}: {self.nummer}\"\n",
    "\n",
    "tesla = Bil(\"Tesla\")\n",
    "opel = Bil(\"Opel\")\n",
    "lamborghini = Bil(\"Lamborghini\")\n",
    "\n",
    "print(opel)"
   ]
  },
  {
   "cell_type": "markdown",
   "id": "3ec4787e",
   "metadata": {},
   "source": [
    "## Flytskjema til deloppgave 1 f)\n",
    "![Flytskjema](LF_del1_oppg1f_flytskjema.png)"
   ]
  },
  {
   "cell_type": "markdown",
   "id": "8e934a8b",
   "metadata": {},
   "source": [
    "# Oppgave 2"
   ]
  },
  {
   "cell_type": "code",
   "execution_count": 6,
   "id": "8fe9b8ff",
   "metadata": {},
   "outputs": [],
   "source": [
    "class Dyr:\n",
    "    def __init__(self, navn):\n",
    "        self.navn = navn\n",
    "\n",
    "    def p(self):\n",
    "        print(\"Dette er et dyr\")\n",
    "\n",
    "    def m(self):\n",
    "        self.p()\n",
    "\n",
    "class Pattedyr(Dyr):\n",
    "    def __init__(self, navn):\n",
    "        super().__init__(navn)\n",
    "\n",
    "    def m(self):\n",
    "        print(self.navn)\n",
    "\n",
    "class Hund(Pattedyr):\n",
    "    def __init__(self, navn):\n",
    "        super().__init__(navn)\n",
    "\n",
    "    def p(self):\n",
    "        super().p()"
   ]
  },
  {
   "cell_type": "code",
   "execution_count": 7,
   "id": "243877f0",
   "metadata": {},
   "outputs": [],
   "source": [
    "dyr = Dyr(\"Fluffy\")\n",
    "pattedyr = Pattedyr(\"Luna\")\n",
    "hund = Hund(\"Teddy\")"
   ]
  },
  {
   "cell_type": "code",
   "execution_count": 8,
   "id": "e1172f05",
   "metadata": {},
   "outputs": [
    {
     "name": "stdout",
     "output_type": "stream",
     "text": [
      "Dette er et dyr\n"
     ]
    }
   ],
   "source": [
    "# a)\n",
    "dyr.p()"
   ]
  },
  {
   "cell_type": "code",
   "execution_count": 9,
   "id": "f0e965b6",
   "metadata": {},
   "outputs": [
    {
     "name": "stdout",
     "output_type": "stream",
     "text": [
      "Dette er et dyr\n"
     ]
    }
   ],
   "source": [
    "# b)\n",
    "dyr.m()"
   ]
  },
  {
   "cell_type": "code",
   "execution_count": 29,
   "id": "31dfff57",
   "metadata": {},
   "outputs": [
    {
     "name": "stdout",
     "output_type": "stream",
     "text": [
      "Dette er et dyr\n"
     ]
    }
   ],
   "source": [
    "# c)\n",
    "pattedyr.p()"
   ]
  },
  {
   "cell_type": "code",
   "execution_count": 30,
   "id": "443888a3",
   "metadata": {},
   "outputs": [
    {
     "name": "stdout",
     "output_type": "stream",
     "text": [
      "Luna\n"
     ]
    }
   ],
   "source": [
    "# d)\n",
    "pattedyr.m()"
   ]
  },
  {
   "cell_type": "code",
   "execution_count": 31,
   "id": "1cbbbb3f",
   "metadata": {},
   "outputs": [
    {
     "name": "stdout",
     "output_type": "stream",
     "text": [
      "Dette er et dyr\n"
     ]
    }
   ],
   "source": [
    "# e)\n",
    "hund.p()"
   ]
  },
  {
   "cell_type": "code",
   "execution_count": 10,
   "id": "3fe1397b",
   "metadata": {},
   "outputs": [
    {
     "name": "stdout",
     "output_type": "stream",
     "text": [
      "Teddy\n"
     ]
    }
   ],
   "source": [
    "# f)\n",
    "hund.m()"
   ]
  },
  {
   "cell_type": "markdown",
   "id": "b857c352",
   "metadata": {},
   "source": [
    "# Oppgave 3"
   ]
  },
  {
   "cell_type": "markdown",
   "id": "d9e36a8b",
   "metadata": {},
   "source": [
    "a) Funksjonen finner indeksen til et tall t i listen. Dersom dette tallet ikke finnes i listen returneres ingenting (None). Hvis t finnes flere steder i listen, returneres den laveste indeksen."
   ]
  },
  {
   "cell_type": "code",
   "execution_count": 33,
   "id": "8e6ac9c9",
   "metadata": {},
   "outputs": [
    {
     "name": "stdout",
     "output_type": "stream",
     "text": [
      "3\n"
     ]
    }
   ],
   "source": [
    "# b)\n",
    "def mysterie(liste, t):\n",
    "    for i in range(len(liste)):\n",
    "        if liste[i] == t:\n",
    "            return i\n",
    "\n",
    "print(mysterie([8, 11, 6, 1, 4], 1))"
   ]
  },
  {
   "cell_type": "code",
   "execution_count": 34,
   "id": "c277924a",
   "metadata": {},
   "outputs": [
    {
     "name": "stdout",
     "output_type": "stream",
     "text": [
      "3\n"
     ]
    }
   ],
   "source": [
    "# c)\n",
    "def mysterie(liste, t):\n",
    "    i = 0 # Initialiserer\n",
    "    \n",
    "    # Endrer til while-løkke\n",
    "    while i < len(liste):\n",
    "        if liste[i] == t:\n",
    "            return i\n",
    "        \n",
    "        i += 1 # Inkrementerer\n",
    "\n",
    "print(mysterie([8, 11, 6, 1, 4], 1))"
   ]
  },
  {
   "cell_type": "code",
   "execution_count": null,
   "id": "cc8b93d6",
   "metadata": {},
   "outputs": [],
   "source": []
  }
 ],
 "metadata": {
  "kernelspec": {
   "display_name": "Python 3",
   "language": "python",
   "name": "python3"
  },
  "language_info": {
   "codemirror_mode": {
    "name": "ipython",
    "version": 3
   },
   "file_extension": ".py",
   "mimetype": "text/x-python",
   "name": "python",
   "nbconvert_exporter": "python",
   "pygments_lexer": "ipython3",
   "version": "3.11.9"
  }
 },
 "nbformat": 4,
 "nbformat_minor": 5
}
